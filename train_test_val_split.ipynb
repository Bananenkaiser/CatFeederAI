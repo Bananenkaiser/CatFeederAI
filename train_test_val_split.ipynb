{
 "cells": [
  {
   "cell_type": "code",
   "execution_count": null,
   "id": "e5f53744",
   "metadata": {},
   "outputs": [],
   "source": [
    "import os\n",
    "import shutil\n",
    "import random"
   ]
  },
  {
   "cell_type": "code",
   "execution_count": null,
   "id": "dfbf48a2",
   "metadata": {},
   "outputs": [],
   "source": [
    "def split_dataset(src_dir, dst_dir, classes, ratios=(0.7, 0.15, 0.15), seed=42):\n",
    "    random.seed(seed)\n",
    "    for cls in classes:\n",
    "        class_src = os.path.join(src_dir, cls)\n",
    "        images = [f for f in os.listdir(class_src)\n",
    "                  if os.path.isfile(os.path.join(class_src, f))]\n",
    "        random.shuffle(images)\n",
    "        \n",
    "        n = len(images)\n",
    "        n_train = int(n * ratios[0])\n",
    "        n_val   = int(n * ratios[1])\n",
    "        \n",
    "        splits = {\n",
    "            'train': images[:n_train],\n",
    "            'val':   images[n_train:n_train + n_val],\n",
    "            'test':  images[n_train + n_val:]\n",
    "        }\n",
    "        \n",
    "        for split_name, file_list in splits.items():\n",
    "            out_dir = os.path.join(dst_dir, split_name, cls)\n",
    "            os.makedirs(out_dir, exist_ok=True)\n",
    "            for fname in file_list:\n",
    "                src_path = os.path.join(class_src, fname)\n",
    "                dst_path = os.path.join(out_dir, fname)\n",
    "                shutil.copy2(src_path, dst_path)\n",
    "            print(f\"{cls} → {split_name}: {len(file_list)} Bilder\")"
   ]
  },
  {
   "cell_type": "code",
   "execution_count": null,
   "id": "09e22a72",
   "metadata": {},
   "outputs": [
    {
     "name": "stdout",
     "output_type": "stream",
     "text": [
      "Fabius → train: 289 Bilder\n",
      "Fabius → val: 62 Bilder\n",
      "Fabius → test: 63 Bilder\n",
      "Elsa → train: 432 Bilder\n",
      "Elsa → val: 92 Bilder\n",
      "Elsa → test: 94 Bilder\n"
     ]
    }
   ],
   "source": [
    "if __name__ == \"__main__\":\n",
    "    src_directory = r\"\\\\Cloud_9\\data\\pet_feeder_ai\\cats\"\n",
    "    dst_directory = r\"\\\\Cloud_9\\data\\pet_feeder_ai\\data_split\"\n",
    "    class_names   = [\"Fabius\", \"Elsa\"]\n",
    "    \n",
    "    split_dataset(src_directory, dst_directory, class_names)\n"
   ]
  }
 ],
 "metadata": {
  "kernelspec": {
   "display_name": "Python 3",
   "language": "python",
   "name": "python3"
  },
  "language_info": {
   "codemirror_mode": {
    "name": "ipython",
    "version": 3
   },
   "file_extension": ".py",
   "mimetype": "text/x-python",
   "name": "python",
   "nbconvert_exporter": "python",
   "pygments_lexer": "ipython3",
   "version": "3.12.1"
  }
 },
 "nbformat": 4,
 "nbformat_minor": 5
}
