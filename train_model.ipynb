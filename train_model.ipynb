{
 "cells": [
  {
   "cell_type": "markdown",
   "id": "851ed539",
   "metadata": {},
   "source": [
    "Ich werde verschiedene Modelle trainieren und sie vergleichen.\\\n",
    "Kriterien sind:\n",
    "- Dauer des Trainings\n",
    "- Größe des Modells\n",
    "- Genauigkeit in der Erkennung der verschiedenen Katzen"
   ]
  },
  {
   "cell_type": "markdown",
   "id": "f0aba81e",
   "metadata": {},
   "source": [
    "# YoloV11"
   ]
  },
  {
   "cell_type": "code",
   "execution_count": null,
   "id": "15a83772",
   "metadata": {},
   "outputs": [],
   "source": []
  },
  {
   "cell_type": "markdown",
   "id": "dc33b3c6",
   "metadata": {},
   "source": [
    "# MobileNetV2"
   ]
  },
  {
   "cell_type": "code",
   "execution_count": null,
   "id": "60a560f5",
   "metadata": {},
   "outputs": [],
   "source": [
    "#!pip install torch torchvision"
   ]
  },
  {
   "cell_type": "code",
   "execution_count": null,
   "id": "6b1811e8",
   "metadata": {},
   "outputs": [],
   "source": [
    "import torch\n",
    "from torchvision import datasets, transforms\n",
    "from torch.utils.data import DataLoader"
   ]
  },
  {
   "cell_type": "code",
   "execution_count": null,
   "id": "684bb7c1",
   "metadata": {},
   "outputs": [],
   "source": [
    "# Von-0–1-Normalisierung + Resize\n",
    "transform = transforms.Compose([\n",
    "    transforms.Resize((224,224)),\n",
    "    transforms.ToTensor(),\n",
    "    transforms.Normalize(mean=[0.485,0.456,0.406],\n",
    "                         std= [0.229,0.224,0.225])\n",
    "])\n",
    "\n",
    "train_ds = datasets.ImageFolder('data_split/train', transform=transform)\n",
    "val_ds   = datasets.ImageFolder('data_split/val',   transform=transform)\n",
    "\n",
    "train_dl = DataLoader(train_ds, batch_size=32, shuffle=True,  num_workers=4)\n",
    "val_dl   = DataLoader(val_ds,   batch_size=32, shuffle=False, num_workers=4)\n"
   ]
  },
  {
   "cell_type": "code",
   "execution_count": null,
   "id": "89b42ab6",
   "metadata": {},
   "outputs": [],
   "source": [
    "from torchvision.models import mobilenet_v2\n",
    "import torch.nn as nn\n",
    "\n",
    "# Vortrainiertes MobileNetV2\n",
    "model = mobilenet_v2(pretrained=True)\n",
    "\n",
    "# Finalen Klassifizierer auf 2 Klassen anpassen\n",
    "model.classifier[1] = nn.Linear(model.last_channel, 2)\n",
    "\n",
    "device = torch.device('cuda' if torch.cuda.is_available() else 'cpu')\n",
    "model.to(device)\n"
   ]
  },
  {
   "cell_type": "code",
   "execution_count": null,
   "id": "fdf68631",
   "metadata": {},
   "outputs": [],
   "source": [
    "import torch.optim as optim\n",
    "\n",
    "criterion = nn.CrossEntropyLoss()\n",
    "optimizer = optim.Adam(model.parameters(), lr=1e-4)\n",
    "best_acc = 0.0\n",
    "\n",
    "for epoch in range(1, 21):  # z. B. 20 Epochen\n",
    "    # --- Training ---\n",
    "    model.train()\n",
    "    running_loss = 0\n",
    "    for xb, yb in train_dl:\n",
    "        xb, yb = xb.to(device), yb.to(device)\n",
    "        optimizer.zero_grad()\n",
    "        logits = model(xb)\n",
    "        loss = criterion(logits, yb)\n",
    "        loss.backward()\n",
    "        optimizer.step()\n",
    "        running_loss += loss.item() * xb.size(0)\n",
    "\n",
    "    # --- Validation ---\n",
    "    model.eval()\n",
    "    correct = total = 0\n",
    "    with torch.no_grad():\n",
    "        for xb, yb in val_dl:\n",
    "            xb, yb = xb.to(device), yb.to(device)\n",
    "            preds = model(xb).argmax(dim=1)\n",
    "            correct += (preds == yb).sum().item()\n",
    "            total   += yb.size(0)\n",
    "    acc = correct / total\n",
    "\n",
    "    print(f\"Epoch {epoch:02d}: Loss={(running_loss/len(train_ds)):.4f}, Val-Acc={acc:.4f}\")\n",
    "\n",
    "    # Speichere bestes Modell\n",
    "    if acc > best_acc:\n",
    "        best_acc = acc\n",
    "        torch.save(model.state_dict(), 'catid_mobilenetv2.pt')"
   ]
  },
  {
   "cell_type": "markdown",
   "id": "7f38f7c3",
   "metadata": {},
   "source": [
    "# EfficientNet-Lite0 "
   ]
  }
 ],
 "metadata": {
  "kernelspec": {
   "display_name": "Python 3",
   "language": "python",
   "name": "python3"
  },
  "language_info": {
   "codemirror_mode": {
    "name": "ipython",
    "version": 3
   },
   "file_extension": ".py",
   "mimetype": "text/x-python",
   "name": "python",
   "nbconvert_exporter": "python",
   "pygments_lexer": "ipython3",
   "version": "3.12.1"
  }
 },
 "nbformat": 4,
 "nbformat_minor": 5
}
