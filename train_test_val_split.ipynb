{
 "cells": [
  {
   "cell_type": "code",
   "execution_count": 1,
   "id": "3ca5fd79",
   "metadata": {},
   "outputs": [],
   "source": [
    "import os\n",
    "import numpy as np\n",
    "from sklearn.model_selection import train_test_split\n",
    "import shutil"
   ]
  },
  {
   "cell_type": "code",
   "execution_count": 2,
   "id": "1abf52fe",
   "metadata": {},
   "outputs": [],
   "source": [
    "\n",
    "# Pfad zum Quellverzeichnis und Zielverzeichnis\n",
    "src_directory = r\"\\\\Cloud_9\\data\\pet_feeder_ai\\cats\"\n",
    "dst_directory = r\"\\\\Cloud_9\\data\\pet_feeder_ai\\data_split\"\n",
    "\n",
    "# Erstellen der Zielverzeichnisse\n",
    "os.makedirs(os.path.join(dst_directory, \"train\", \"Fabius\"), exist_ok=True)\n",
    "os.makedirs(os.path.join(dst_directory, \"train\", \"Elsa\"), exist_ok=True)\n",
    "os.makedirs(os.path.join(dst_directory, \"val\", \"Fabius\"), exist_ok=True)\n",
    "os.makedirs(os.path.join(dst_directory, \"val\", \"Elsa\"), exist_ok=True)\n",
    "os.makedirs(os.path.join(dst_directory, \"test\", \"Fabius\"), exist_ok=True)\n",
    "os.makedirs(os.path.join(dst_directory, \"test\", \"Elsa\"), exist_ok=True)\n",
    "\n",
    "# Funktion zum Kopieren von Dateien\n",
    "def copy_files(files, src_dir, dst_dir):\n",
    "    for file in files:\n",
    "        src_path = os.path.join(src_dir, file)\n",
    "        dst_path = os.path.join(dst_dir, file)\n",
    "        shutil.copy(src_path, dst_path)\n",
    "\n",
    "# Aufteilen der Daten für jede Klasse\n",
    "for class_name in [ \"Elsa\",\"Fabius\"]:\n",
    "    class_dir = os.path.join(src_directory, class_name)\n",
    "    files = os.listdir(class_dir)\n",
    "\n",
    "    # Aufteilen in Trainings- und Testsets (80% Train, 20% Test)\n",
    "    train_files, test_files = train_test_split(files, test_size=0.2, random_state=42)\n",
    "\n",
    "    # Aufteilen des Testsets in Validierungs- und Testsets (50% Val, 50% Test)\n",
    "    val_files, test_files = train_test_split(test_files, test_size=0.5, random_state=42)\n",
    "\n",
    "    # Kopieren der Dateien in die entsprechenden Verzeichnisse\n",
    "    copy_files(train_files, os.path.join(src_directory, class_name), os.path.join(dst_directory, \"train\", class_name))\n",
    "    copy_files(val_files, os.path.join(src_directory, class_name), os.path.join(dst_directory, \"val\", class_name))\n",
    "    copy_files(test_files, os.path.join(src_directory, class_name), os.path.join(dst_directory, \"test\", class_name))\n"
   ]
  }
 ],
 "metadata": {
  "kernelspec": {
   "display_name": "Python 3",
   "language": "python",
   "name": "python3"
  },
  "language_info": {
   "codemirror_mode": {
    "name": "ipython",
    "version": 3
   },
   "file_extension": ".py",
   "mimetype": "text/x-python",
   "name": "python",
   "nbconvert_exporter": "python",
   "pygments_lexer": "ipython3",
   "version": "3.12.1"
  }
 },
 "nbformat": 4,
 "nbformat_minor": 5
}
