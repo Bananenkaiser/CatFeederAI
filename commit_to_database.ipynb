{
 "cells": [
  {
   "cell_type": "code",
   "execution_count": null,
   "id": "5d72b00c",
   "metadata": {},
   "outputs": [
    {
     "name": "stdout",
     "output_type": "stream",
     "text": [
      "Requirement already satisfied: psycopg2-binary in c:\\users\\dtisl\\appdata\\local\\programs\\python\\python312\\lib\\site-packages (2.9.10)\n"
     ]
    }
   ],
   "source": [
    "#!pip install psycopg2-binary\n"
   ]
  },
  {
   "cell_type": "code",
   "execution_count": 1,
   "id": "c496ab13",
   "metadata": {},
   "outputs": [],
   "source": [
    "import psycopg2\n",
    "import json\n",
    "from psycopg2 import sql"
   ]
  },
  {
   "cell_type": "code",
   "execution_count": 2,
   "id": "9d758426",
   "metadata": {},
   "outputs": [],
   "source": [
    "# Lade die Datenbankverbindungsparameter aus der JSON-Datei\n",
    "with open('db_config.json') as config_file:\n",
    "    db_params = json.load(config_file)"
   ]
  },
  {
   "cell_type": "code",
   "execution_count": 3,
   "id": "5b4b17f5",
   "metadata": {},
   "outputs": [
    {
     "name": "stdout",
     "output_type": "stream",
     "text": [
      "Erfolgreich mit der Datenbank verbunden.\n",
      "Datenbankverbindung geschlossen.\n"
     ]
    }
   ],
   "source": [
    "try:\n",
    "    conn = psycopg2.connect(**db_params)\n",
    "    print(\"Erfolgreich mit der Datenbank verbunden.\")\n",
    "\n",
    "except Exception as e:\n",
    "    print(f\"Ein Fehler ist aufgetreten: {e}\")\n",
    "\n",
    "finally:\n",
    "    # Verbindung schließen\n",
    "    if 'conn' in locals():\n",
    "        conn.close()\n",
    "        print(\"Datenbankverbindung geschlossen.\")"
   ]
  },
  {
   "cell_type": "code",
   "execution_count": 4,
   "id": "ac269988",
   "metadata": {},
   "outputs": [
    {
     "name": "stdout",
     "output_type": "stream",
     "text": [
      "Tabelle erfolgreich erstellt.\n",
      "Datenbankverbindung geschlossen.\n"
     ]
    }
   ],
   "source": [
    "try:\n",
    "    conn = psycopg2.connect(**db_params)\n",
    "    cursor = conn.cursor()\n",
    "\n",
    "    create_table_query = sql.SQL(\"\"\"\n",
    "    CREATE TABLE IF NOT EXISTS cat_feeding (\n",
    "        id SERIAL PRIMARY KEY,\n",
    "        timestamp TIMESTAMP NOT NULL,\n",
    "        cat_id INTEGER NOT NULL,\n",
    "        weight FLOAT NOT NULL\n",
    "    );\n",
    "    \"\"\")\n",
    "\n",
    "    cursor.execute(create_table_query)\n",
    "    conn.commit()\n",
    "    print(\"Tabelle erfolgreich erstellt.\")\n",
    "\n",
    "except Exception as e:\n",
    "    print(f\"Ein Fehler ist aufgetreten: {e}\")\n",
    "\n",
    "finally:\n",
    "\n",
    "    if conn is not None:\n",
    "        conn.close()\n",
    "        print(\"Datenbankverbindung geschlossen.\")\n"
   ]
  }
 ],
 "metadata": {
  "kernelspec": {
   "display_name": "Python 3",
   "language": "python",
   "name": "python3"
  },
  "language_info": {
   "codemirror_mode": {
    "name": "ipython",
    "version": 3
   },
   "file_extension": ".py",
   "mimetype": "text/x-python",
   "name": "python",
   "nbconvert_exporter": "python",
   "pygments_lexer": "ipython3",
   "version": "3.12.1"
  }
 },
 "nbformat": 4,
 "nbformat_minor": 5
}
