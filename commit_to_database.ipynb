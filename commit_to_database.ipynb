{
 "cells": [
  {
   "cell_type": "code",
   "execution_count": 1,
   "id": "5d72b00c",
   "metadata": {},
   "outputs": [
    {
     "name": "stdout",
     "output_type": "stream",
     "text": [
      "Requirement already satisfied: psycopg2-binary in c:\\users\\dtisl\\appdata\\local\\programs\\python\\python312\\lib\\site-packages (2.9.10)\n"
     ]
    }
   ],
   "source": [
    "!pip install psycopg2-binary\n"
   ]
  },
  {
   "cell_type": "code",
   "execution_count": 2,
   "id": "c496ab13",
   "metadata": {},
   "outputs": [],
   "source": [
    "import psycopg2\n",
    "from psycopg2 import sql"
   ]
  },
  {
   "cell_type": "code",
   "execution_count": 6,
   "id": "5b4b17f5",
   "metadata": {},
   "outputs": [
    {
     "name": "stdout",
     "output_type": "stream",
     "text": [
      "Erfolgreich mit der Datenbank verbunden.\n",
      "Datenbankverbindung geschlossen.\n"
     ]
    }
   ],
   "source": [
    "# Datenbankverbindungsparameter\n",
    "db_params = {\n",
    "    'host': '192.168.178.59',\n",
    "    'database': 'pet_feeding_db',\n",
    "    'user': 'root',\n",
    "    'password': 'Romfahrt1337!',\n",
    "    'port': '2665'\n",
    "}\n",
    "\n",
    "try:\n",
    "    # Verbindung zur Datenbank herstellen\n",
    "    conn = psycopg2.connect(**db_params)\n",
    "    print(\"Erfolgreich mit der Datenbank verbunden.\")\n",
    "\n",
    "except Exception as e:\n",
    "    print(f\"Ein Fehler ist aufgetreten: {e}\")\n",
    "\n",
    "finally:\n",
    "    # Verbindung schließen\n",
    "    if 'conn' in locals():\n",
    "        conn.close()\n",
    "        print(\"Datenbankverbindung geschlossen.\")"
   ]
  },
  {
   "cell_type": "code",
   "execution_count": null,
   "id": "ac269988",
   "metadata": {},
   "outputs": [
    {
     "name": "stdout",
     "output_type": "stream",
     "text": [
      "Ein Fehler ist aufgetreten: could not translate host name \"192.168\" to address: No such host is known. \n",
      "\n"
     ]
    },
    {
     "ename": "NameError",
     "evalue": "name 'conn' is not defined",
     "output_type": "error",
     "traceback": [
      "\u001b[1;31m---------------------------------------------------------------------------\u001b[0m",
      "\u001b[1;31mNameError\u001b[0m                                 Traceback (most recent call last)",
      "Cell \u001b[1;32mIn[4], line 36\u001b[0m\n\u001b[0;32m     32\u001b[0m     \u001b[38;5;28mprint\u001b[39m(\u001b[38;5;124mf\u001b[39m\u001b[38;5;124m\"\u001b[39m\u001b[38;5;124mEin Fehler ist aufgetreten: \u001b[39m\u001b[38;5;132;01m{\u001b[39;00me\u001b[38;5;132;01m}\u001b[39;00m\u001b[38;5;124m\"\u001b[39m)\n\u001b[0;32m     34\u001b[0m \u001b[38;5;28;01mfinally\u001b[39;00m:\n\u001b[0;32m     35\u001b[0m     \u001b[38;5;66;03m# Verbindung schließen\u001b[39;00m\n\u001b[1;32m---> 36\u001b[0m     \u001b[38;5;28;01mif\u001b[39;00m \u001b[43mconn\u001b[49m \u001b[38;5;129;01mis\u001b[39;00m \u001b[38;5;129;01mnot\u001b[39;00m \u001b[38;5;28;01mNone\u001b[39;00m:\n\u001b[0;32m     37\u001b[0m         conn\u001b[38;5;241m.\u001b[39mclose()\n\u001b[0;32m     38\u001b[0m         \u001b[38;5;28mprint\u001b[39m(\u001b[38;5;124m\"\u001b[39m\u001b[38;5;124mDatenbankverbindung geschlossen.\u001b[39m\u001b[38;5;124m\"\u001b[39m)\n",
      "\u001b[1;31mNameError\u001b[0m: name 'conn' is not defined"
     ]
    }
   ],
   "source": [
    "\n",
    "# Verbindung zur Datenbank herstellen\n",
    "try:\n",
    "    conn = psycopg2.connect(**db_params)\n",
    "    cursor = conn.cursor()\n",
    "\n",
    "    # SQL-Befehl zum Erstellen der Tabelle\n",
    "    create_table_query = sql.SQL(\"\"\"\n",
    "    CREATE TABLE IF NOT EXISTS cat_feeding (\n",
    "        id SERIAL PRIMARY KEY,\n",
    "        timestamp TIMESTAMP NOT NULL,\n",
    "        cat_id INTEGER NOT NULL,\n",
    "        weight FLOAT NOT NULL,\n",
    "        food_type VARCHAR(100)\n",
    "    );\n",
    "    \"\"\")\n",
    "\n",
    "    # Tabelle erstellen\n",
    "    cursor.execute(create_table_query)\n",
    "    conn.commit()\n",
    "    print(\"Tabelle erfolgreich erstellt.\")\n",
    "\n",
    "except Exception as e:\n",
    "    print(f\"Ein Fehler ist aufgetreten: {e}\")\n",
    "\n",
    "finally:\n",
    "    # Verbindung schließen\n",
    "    if conn is not None:\n",
    "        conn.close()\n",
    "        print(\"Datenbankverbindung geschlossen.\")\n"
   ]
  }
 ],
 "metadata": {
  "kernelspec": {
   "display_name": "Python 3",
   "language": "python",
   "name": "python3"
  },
  "language_info": {
   "codemirror_mode": {
    "name": "ipython",
    "version": 3
   },
   "file_extension": ".py",
   "mimetype": "text/x-python",
   "name": "python",
   "nbconvert_exporter": "python",
   "pygments_lexer": "ipython3",
   "version": "3.12.1"
  }
 },
 "nbformat": 4,
 "nbformat_minor": 5
}
